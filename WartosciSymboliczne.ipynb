{
 "cells": [
  {
   "cell_type": "code",
   "execution_count": 1,
   "id": "a52e0204-b033-497d-835b-b18eb8d4b610",
   "metadata": {},
   "outputs": [],
   "source": [
    "from sympy import *\n",
    "import sympy as sym\n",
    "import numpy as np\n",
    "import pandas as pd\n",
    "from itertools import combinations\n",
    "import openpyxl\n",
    "from itertools import product"
   ]
  },
  {
   "cell_type": "code",
   "execution_count": 2,
   "id": "b5f70b28-bc84-4615-857c-4d07f8149d84",
   "metadata": {},
   "outputs": [],
   "source": [
    "var('a c d SCR_Market SCR_Couterp SCR_life SCR_Health SCR_Non_Life x '\n",
    "    'y p_12 p_13 p_14 p_15 p_23 p_24 p_25 p_34 p_35 p_45 SCR eps_1 eps_2 eps_3 eps_4 eps_5 eps_6 eps_7 eps_8 eps_9 eps_10')\n",
    "(a, c, d, SCR_Market, SCR_Couterp, SCR_life, SCR_Health, SCR_Non_Life,\n",
    " x,y, p_12, p_13, p_14, p_15, p_23, p_24, p_25, p_34, p_35,p_45, SCR,\n",
    " eps_1, eps_2, eps_3, eps_4, eps_5, eps_6, eps_7, eps_8, eps_9, eps_10)\n",
    "W = Matrix([[SCR_Market, SCR_Couterp, SCR_life, SCR_Health, SCR_Non_Life]])\n",
    "R = Matrix([[1, p_12, p_13, p_14, p_15],\n",
    "            [p_12, 1, p_23, p_24, p_25],\n",
    "            [p_13,p_23,1,p_34,p_35],\n",
    "            [p_14,p_24,p_34,1,p_45],\n",
    "            [p_15,p_25,p_35,p_45,1]])"
   ]
  },
  {
   "cell_type": "code",
   "execution_count": 3,
   "id": "eabb0058-56db-470e-8530-b13edb500aa0",
   "metadata": {},
   "outputs": [],
   "source": [
    "Standard = W.multiply(R)\n",
    "Standard = Standard.multiply(W.T)\n",
    "\n",
    "Standard = sym.expand(Standard[0])\n",
    "Standard = list((str(Standard).split(\" + \")))"
   ]
  },
  {
   "cell_type": "code",
   "execution_count": 4,
   "id": "b946ebc1-6850-4e5d-9b17-4c1be71b0327",
   "metadata": {},
   "outputs": [],
   "source": [
    "R_zmiany = Matrix([[1, p_12, p_13, p_14, p_15],\n",
    "            [p_12, 1, p_23, p_24, p_25],\n",
    "            [p_13,p_23,1,p_34,p_35],\n",
    "            [p_14,p_24,p_34,1,p_45],\n",
    "            [p_15,p_25,p_35,p_45,1]])"
   ]
  },
  {
   "cell_type": "code",
   "execution_count": 5,
   "id": "c51ec731-e0b2-4150-9a15-bb52b9162869",
   "metadata": {},
   "outputs": [],
   "source": [
    "Zmiana = W.multiply(R_zmiany)\n",
    "zmiana = Zmiana.multiply(W.T)\n",
    "zmiana = sym.expand(zmiana[0])\n",
    "zmiana = list((str(zmiana).split(\" + \")))"
   ]
  },
  {
   "cell_type": "code",
   "execution_count": 19,
   "id": "1b12b71b-79a7-4306-8ed9-d543c56e7c9d",
   "metadata": {},
   "outputs": [],
   "source": [
    "def PodajeWynik(Standard, zmiana):\n",
    "    for i in range(len(Standard)):\n",
    "        if Standard[i] in zmiana:\n",
    "            zmiana.remove(Standard[i])\n",
    "        else:\n",
    "            return \"Zle porównanie\"\n",
    "            break\n",
    "    wynik = ''\n",
    "    for j in range(len(zmiana) + 1):\n",
    "        if j < len(zmiana):\n",
    "            wynik = wynik + zmiana[j] + \" + \"\n",
    "        elif j == len(zmiana):\n",
    "            wynik = f\"SCR: WRW^T_Standard + {wynik}\"\n",
    "    return wynik"
   ]
  },
  {
   "cell_type": "code",
   "execution_count": 20,
   "id": "3371f24d-f0b9-470f-948e-bae0556f1383",
   "metadata": {},
   "outputs": [],
   "source": [
    "rodzaj_ryzyka = {\n",
    "    0 : 'Rynkowe',\n",
    "    1 : 'NZPK',\n",
    "    2 : 'Życie',\n",
    "    3: 'Zdrowie',\n",
    "    4: 'non-Majątkowe'\n",
    "}"
   ]
  },
  {
   "cell_type": "code",
   "execution_count": 21,
   "id": "ae3e9734-55b3-4530-b80e-c36fa6557f7a",
   "metadata": {},
   "outputs": [],
   "source": [
    "pary_liczb = []\n",
    "for i in range(len(np.array(R_zmiany))):\n",
    "    for j in range(len(np.array(R_zmiany))):\n",
    "        if i > j:\n",
    "            pary_liczb.append((i, j))"
   ]
  },
  {
   "cell_type": "code",
   "execution_count": 22,
   "id": "022e78aa-9850-46e9-8091-8552e3d4a1ef",
   "metadata": {},
   "outputs": [],
   "source": [
    "z = [eps_1, eps_2, eps_3, eps_4, eps_5, eps_6, eps_7, eps_8, eps_9, eps_10]\n",
    "R_zmiany = np.array(R_zmiany)"
   ]
  },
  {
   "cell_type": "code",
   "execution_count": 23,
   "id": "a837e45f-ac2c-4377-bfc7-26426dbf2f65",
   "metadata": {},
   "outputs": [],
   "source": [
    "writer = pd.ExcelWriter('Badanie_zmian_FS.xlsx', engine='xlsxwriter')"
   ]
  },
  {
   "cell_type": "code",
   "execution_count": 26,
   "id": "ae909cb4-aa31-4c21-af6c-a4b9a2b2c59d",
   "metadata": {},
   "outputs": [
    {
     "name": "stdout",
     "output_type": "stream",
     "text": [
      "Zapisałem tabele dla 0 zmian\n",
      "  Zmienione ryzyka                   Wynik\n",
      "0               []  SCR: WRW^T_Standard + \n",
      "Zapisałem tabele dla 1 zmian\n",
      "                    Zmienione ryzyka  \\\n",
      "0           [(NZPK, Rynkowe, eps_1)]   \n",
      "1          [(Życie, Rynkowe, eps_1)]   \n",
      "2             [(Życie, NZPK, eps_1)]   \n",
      "3        [(Zdrowie, Rynkowe, eps_1)]   \n",
      "4           [(Zdrowie, NZPK, eps_1)]   \n",
      "5          [(Zdrowie, Życie, eps_1)]   \n",
      "6  [(non-Majątkowe, Rynkowe, eps_1)]   \n",
      "7     [(non-Majątkowe, NZPK, eps_1)]   \n",
      "8    [(non-Majątkowe, Życie, eps_1)]   \n",
      "9  [(non-Majątkowe, Zdrowie, eps_1)]   \n",
      "\n",
      "                                               Wynik  \n",
      "0  SCR: WRW^T_Standard + 2*SCR_Couterp*SCR_Market...  \n",
      "1  SCR: WRW^T_Standard + 2*SCR_Market*SCR_life*ep...  \n",
      "2  SCR: WRW^T_Standard + 2*SCR_Couterp*SCR_life*e...  \n",
      "3  SCR: WRW^T_Standard + 2*SCR_Health*SCR_Market*...  \n",
      "4  SCR: WRW^T_Standard + 2*SCR_Couterp*SCR_Health...  \n",
      "5  SCR: WRW^T_Standard + 2*SCR_Health*SCR_life*ep...  \n",
      "6  SCR: WRW^T_Standard + 2*SCR_Market*SCR_Non_Lif...  \n",
      "7  SCR: WRW^T_Standard + 2*SCR_Couterp*SCR_Non_Li...  \n",
      "8  SCR: WRW^T_Standard + 2*SCR_Non_Life*SCR_life*...  \n",
      "9  SCR: WRW^T_Standard + 2*SCR_Health*SCR_Non_Lif...  \n"
     ]
    }
   ],
   "source": [
    "for liczba_zmian in range(0,2):\n",
    "    kombinacje_par = [set(i) for i in combinations(pary_liczb, liczba_zmian)]\n",
    "    dodana_wartosc = []\n",
    "    Wyniki_końcowe = []\n",
    "    SCR = []\n",
    "    for P in kombinacje_par:\n",
    "        R_zmiany_copy = R_zmiany.copy()\n",
    "        m = 0\n",
    "        ryzyko_dla_x = []\n",
    "        ryzyko_dla_y = []\n",
    "        for p in P:\n",
    "            x, y = p\n",
    "            R_zmiany_copy[x][y] = R_zmiany_copy[x][y] + z[m]\n",
    "            R_zmiany_copy[y][x] = R_zmiany_copy[y][x] + z[m]\n",
    "            ryzyko_dla_x.append(rodzaj_ryzyka[x])\n",
    "            ryzyko_dla_y.append(rodzaj_ryzyka[y])\n",
    "            dodana_wartosc.append(z[m])\n",
    "            m = m + 1\n",
    "        Zmiana = W.multiply(R_zmiany_copy)\n",
    "        zmiana = Zmiana.multiply(W.T)\n",
    "        zmiana = sym.expand(zmiana[0])\n",
    "        zmiana = list((str(zmiana).split(\" + \")))\n",
    "        SCR.append(PodajeWynik(Standard, zmiana))\n",
    "        Wyniki_końcowe.append(list(zip(ryzyko_dla_x, ryzyko_dla_y, dodana_wartosc)))\n",
    "    Ostateczny = pd.DataFrame(\n",
    "        {  # \"ID\": ID,\n",
    "            \"Zmienione ryzyka\": Wyniki_końcowe,\n",
    "            \"Wynik\": SCR\n",
    "        })\n",
    "\n",
    "    Ostateczny.to_excel(writer, sheet_name=f\"zmian {liczba_zmian}\")\n",
    "    print(f\"Zapisałem tabele dla {liczba_zmian} zmian\")\n",
    "    del Ostateczny\n",
    "\n",
    "writer.save()\n",
    "\n"
   ]
  },
  {
   "cell_type": "code",
   "execution_count": null,
   "id": "aba952b3-a9ac-460a-a8d2-d13240a2da3f",
   "metadata": {},
   "outputs": [],
   "source": []
  }
 ],
 "metadata": {
  "kernelspec": {
   "display_name": "Python 3",
   "language": "python",
   "name": "python3"
  },
  "language_info": {
   "codemirror_mode": {
    "name": "ipython",
    "version": 3
   },
   "file_extension": ".py",
   "mimetype": "text/x-python",
   "name": "python",
   "nbconvert_exporter": "python",
   "pygments_lexer": "ipython3",
   "version": "3.8.8"
  }
 },
 "nbformat": 4,
 "nbformat_minor": 5
}
